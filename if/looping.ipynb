{
 "cells": [
  {
   "cell_type": "code",
   "execution_count": 1,
   "metadata": {},
   "outputs": [],
   "source": [
    "angka =[1,2,3,4,5,6,7,8,9,10]"
   ]
  },
  {
   "cell_type": "code",
   "execution_count": 9,
   "metadata": {},
   "outputs": [
    {
     "name": "stdout",
     "output_type": "stream",
     "text": [
      "12345678910"
     ]
    }
   ],
   "source": [
    "for i in angka:\n",
    "    print(i, end=\"\")"
   ]
  },
  {
   "cell_type": "code",
   "execution_count": 8,
   "metadata": {},
   "outputs": [
    {
     "name": "stdout",
     "output_type": "stream",
     "text": [
      "angka ke 1 adalah ganjil\n",
      "angka ke 2 adalah genap\n",
      "angka ke 3 adalah ganjil\n",
      "angka ke 4 adalah genap\n",
      "angka ke 5 adalah ganjil\n",
      "angka ke 6 adalah genap\n",
      "angka ke 7 adalah ganjil\n",
      "angka ke 8 adalah genap\n",
      "angka ke 9 adalah ganjil\n",
      "angka ke 10 adalah genap\n"
     ]
    }
   ],
   "source": [
    "jumlah=0\n",
    "for i in angka:\n",
    "    if i%2 == 0:\n",
    "        print(\"angka ke\",i,\"adalah genap\")\n",
    "    else:\n",
    "        print(\"angka ke\",i, \"adalah ganjil\")"
   ]
  },
  {
   "cell_type": "code",
   "execution_count": 12,
   "metadata": {},
   "outputs": [
    {
     "name": "stdout",
     "output_type": "stream",
     "text": [
      "tyan disna rizal"
     ]
    }
   ],
   "source": [
    "for i in \"tyan disna rizal\":\n",
    "    print(i ,end=\"\")"
   ]
  },
  {
   "cell_type": "code",
   "execution_count": 29,
   "metadata": {},
   "outputs": [
    {
     "name": "stdout",
     "output_type": "stream",
     "text": [
      "huruf a nya= 3\n",
      "huruf a nya= 10\n",
      "huruf a nya= 15\n"
     ]
    }
   ],
   "source": [
    "jumlah = 0\n",
    "for i in \"tyan disna rizal\":\n",
    "    jumlah = jumlah + 1\n",
    "    if (i == \"a\"):\n",
    "        print(\"huruf a nya=\",jumlah)\n",
    "    \n",
    "    "
   ]
  },
  {
   "cell_type": "code",
   "execution_count": 25,
   "metadata": {},
   "outputs": [
    {
     "name": "stdout",
     "output_type": "stream",
     "text": [
      "hasil penjumlahahan pada iterator 1 adalah 1\n",
      "hasil penjumlahahan pada iterator 2 adalah 3\n",
      "hasil penjumlahahan pada iterator 3 adalah 6\n",
      "hasil penjumlahahan pada iterator 4 adalah 10\n",
      "hasil penjumlahahan pada iterator 5 adalah 15\n",
      "hasil penjumlahahan pada iterator 6 adalah 21\n",
      "hasil penjumlahahan pada iterator 7 adalah 28\n",
      "hasil penjumlahahan pada iterator 8 adalah 36\n",
      "hasil penjumlahahan pada iterator 9 adalah 45\n",
      "hasil penjumlahahan pada iterator 10 adalah 55\n"
     ]
    }
   ],
   "source": [
    "jumlah=0\n",
    "for j in angka:\n",
    "    jumlah= jumlah + j\n",
    "    print (\"hasil penjumlahahan pada iterator\",j,\"adalah\",jumlah)"
   ]
  },
  {
   "cell_type": "code",
   "execution_count": 28,
   "metadata": {},
   "outputs": [
    {
     "name": "stdout",
     "output_type": "stream",
     "text": [
      "hasil totalnya adalah 110\n"
     ]
    }
   ],
   "source": [
    "for j in angka:\n",
    "    jumlah=jumlah+j\n",
    "print(\"hasil totalnya adalah\",jumlah)"
   ]
  },
  {
   "cell_type": "code",
   "execution_count": 2,
   "metadata": {},
   "outputs": [
    {
     "name": "stdout",
     "output_type": "stream",
     "text": [
      "5 + 6 = 11\n"
     ]
    }
   ],
   "source": [
    "def penjumlahan(bil1,bil2):\n",
    "    hasil = bil1+bil2\n",
    "    print(bil1,\"+\",bil2,\"=\",hasil)\n",
    "penjumlahan(5,6)"
   ]
  },
  {
   "cell_type": "code",
   "execution_count": 5,
   "metadata": {},
   "outputs": [
    {
     "name": "stdout",
     "output_type": "stream",
     "text": [
      "1\n",
      "2\n",
      "2\n",
      "3\n",
      "6\n",
      "7\n"
     ]
    }
   ],
   "source": [
    "box1=[[1,2],[2,3],[6,7]]\n",
    "for a,b in box1:\n",
    "    print(a)\n",
    "    print(b)"
   ]
  },
  {
   "cell_type": "code",
   "execution_count": 6,
   "metadata": {},
   "outputs": [
    {
     "name": "stdout",
     "output_type": "stream",
     "text": [
      "[1, 2]\n",
      "[2, 3]\n",
      "[6, 7]\n"
     ]
    }
   ],
   "source": [
    "box1=[[1,2],[2,3],[6,7]]\n",
    "for a in box1:\n",
    "    print(a)"
   ]
  },
  {
   "cell_type": "code",
   "execution_count": 7,
   "metadata": {},
   "outputs": [
    {
     "name": "stdout",
     "output_type": "stream",
     "text": [
      "c\n",
      "a\n",
      "d\n"
     ]
    }
   ],
   "source": [
    "box1=[[1,2,'c'],[2,3,'a'],[6,7,'d']]\n",
    "for t,y,n in box1:\n",
    "    print(n)"
   ]
  },
  {
   "cell_type": "code",
   "execution_count": 4,
   "metadata": {},
   "outputs": [
    {
     "name": "stdout",
     "output_type": "stream",
     "text": [
      "tyan disna rizal\n",
      "tyan disna rizal\n",
      "tyan disna rizal\n",
      "tyan disna rizal\n",
      "tyan disna rizal\n",
      "tyan disna rizal\n",
      "tyan disna rizal\n",
      "tyan disna rizal\n",
      "tyan disna rizal\n",
      "tyan disna rizal\n"
     ]
    }
   ],
   "source": [
    "index = 0\n",
    "while True:\n",
    "    print(\"tyan disna rizal\")\n",
    "    index=index+1\n",
    "    if index == 10:\n",
    "        break"
   ]
  },
  {
   "cell_type": "code",
   "execution_count": 6,
   "metadata": {},
   "outputs": [
    {
     "name": "stdout",
     "output_type": "stream",
     "text": [
      "anda berada di angka ganji 1\n",
      "anda berada di angka ganji 3\n",
      "anda berada di angka ganji 5\n",
      "anda berada di angka ganji 7\n",
      "anda berada di angka ganji 9\n"
     ]
    }
   ],
   "source": [
    "angkaa = [1,2,3,4,5,6,7,8,9,10]\n",
    "for i in angkaa:\n",
    "    if i%2 == 0:\n",
    "        continue\n",
    "    else:\n",
    "        print(\"anda berada di angka ganji\",i)"
   ]
  },
  {
   "cell_type": "code",
   "execution_count": null,
   "metadata": {},
   "outputs": [],
   "source": []
  }
 ],
 "metadata": {
  "kernelspec": {
   "display_name": "Python 3",
   "language": "python",
   "name": "python3"
  },
  "language_info": {
   "codemirror_mode": {
    "name": "ipython",
    "version": 3
   },
   "file_extension": ".py",
   "mimetype": "text/x-python",
   "name": "python",
   "nbconvert_exporter": "python",
   "pygments_lexer": "ipython3",
   "version": "3.6.1"
  }
 },
 "nbformat": 4,
 "nbformat_minor": 4
}
