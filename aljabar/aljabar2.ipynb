{
 "cells": [
  {
   "cell_type": "code",
   "execution_count": 1,
   "metadata": {},
   "outputs": [],
   "source": [
    "import sympy as sym\n",
    "import numpy as np"
   ]
  },
  {
   "cell_type": "code",
   "execution_count": 2,
   "metadata": {},
   "outputs": [],
   "source": [
    "from IPython.display import Math"
   ]
  },
  {
   "cell_type": "code",
   "execution_count": 3,
   "metadata": {},
   "outputs": [],
   "source": [
    "x,y,z = sym.symbols('x,y,z')"
   ]
  },
  {
   "cell_type": "code",
   "execution_count": 4,
   "metadata": {},
   "outputs": [],
   "source": [
    "p1 = x**y * x**z\n",
    "p2 = x**y / y**x"
   ]
  },
  {
   "cell_type": "code",
   "execution_count": 5,
   "metadata": {},
   "outputs": [
    {
     "data": {
      "text/latex": [
       "$\\displaystyle x^{y} x^{z}$"
      ],
      "text/plain": [
       "<IPython.core.display.Math object>"
      ]
     },
     "metadata": {},
     "output_type": "display_data"
    },
    {
     "data": {
      "text/latex": [
       "$\\displaystyle x^{y} x^{z}$"
      ],
      "text/plain": [
       "x**y*x**z"
      ]
     },
     "metadata": {},
     "output_type": "display_data"
    },
    {
     "data": {
      "text/latex": [
       "$\\displaystyle x^{y + z}$"
      ],
      "text/plain": [
       "x**(y + z)"
      ]
     },
     "metadata": {},
     "output_type": "display_data"
    },
    {
     "data": {
      "text/latex": [
       "$\\displaystyle x^{y} y^{- x}$"
      ],
      "text/plain": [
       "<IPython.core.display.Math object>"
      ]
     },
     "metadata": {},
     "output_type": "display_data"
    },
    {
     "data": {
      "text/latex": [
       "$\\displaystyle x^{y} y^{- x}$"
      ],
      "text/plain": [
       "x**y*y**(-x)"
      ]
     },
     "metadata": {},
     "output_type": "display_data"
    }
   ],
   "source": [
    "display(Math(sym.latex(p1)))\n",
    "display(p1)\n",
    "display(sym.simplify(p1))\n",
    "display(Math(sym.latex(p2)))\n",
    "display(p2)"
   ]
  },
  {
   "cell_type": "code",
   "execution_count": 6,
   "metadata": {},
   "outputs": [
    {
     "data": {
      "text/latex": [
       "$\\displaystyle x^{y + z}$"
      ],
      "text/plain": [
       "x**(y + z)"
      ]
     },
     "metadata": {},
     "output_type": "display_data"
    }
   ],
   "source": [
    "display(sym.simplify(p1))"
   ]
  },
  {
   "cell_type": "code",
   "execution_count": 7,
   "metadata": {},
   "outputs": [],
   "source": [
    "p3 = x * (x+1)\n",
    "p4 = x-2"
   ]
  },
  {
   "cell_type": "code",
   "execution_count": 9,
   "metadata": {},
   "outputs": [
    {
     "data": {
      "text/latex": [
       "$\\displaystyle x \\left(x - 2\\right) \\left(x + 1\\right)$"
      ],
      "text/plain": [
       "x*(x - 2)*(x + 1)"
      ]
     },
     "metadata": {},
     "output_type": "display_data"
    }
   ],
   "source": [
    "display(sym.simplify(p3*p4))"
   ]
  },
  {
   "cell_type": "code",
   "execution_count": 38,
   "metadata": {},
   "outputs": [
    {
     "data": {
      "text/latex": [
       "$\\displaystyle x^{3} + x^{2}$"
      ],
      "text/plain": [
       "x**3 + x**2"
      ]
     },
     "metadata": {},
     "output_type": "display_data"
    }
   ],
   "source": [
    "display(sym.expand(p3*p4))"
   ]
  },
  {
   "cell_type": "code",
   "execution_count": 41,
   "metadata": {},
   "outputs": [],
   "source": [
    "p5 = y**12 + x**5\n",
    "k1=p1*p2/p3+p4*p5"
   ]
  },
  {
   "cell_type": "code",
   "execution_count": 40,
   "metadata": {},
   "outputs": [
    {
     "data": {
      "text/latex": [
       "$\\displaystyle x^{6} + x y^{12} + \\frac{x^{2 y} x^{z}}{x^{2} y^{x} + x y^{x}}$"
      ],
      "text/plain": [
       "x**6 + x*y**12 + x**(2*y)*x**z/(x**2*y**x + x*y**x)"
      ]
     },
     "metadata": {},
     "output_type": "display_data"
    }
   ],
   "source": [
    "display(sym.expand(p1*p2/p3+p4*p5))"
   ]
  },
  {
   "cell_type": "code",
   "execution_count": 42,
   "metadata": {},
   "outputs": [
    {
     "data": {
      "text/latex": [
       "$\\displaystyle x^{6} + x y^{12} + \\frac{x^{2 y} x^{z}}{x^{2} y^{x} + x y^{x}}$"
      ],
      "text/plain": [
       "x**6 + x*y**12 + x**(2*y)*x**z/(x**2*y**x + x*y**x)"
      ]
     },
     "metadata": {},
     "output_type": "display_data"
    }
   ],
   "source": [
    "display(sym.expand(k1))"
   ]
  },
  {
   "cell_type": "code",
   "execution_count": 43,
   "metadata": {},
   "outputs": [
    {
     "name": "stdout",
     "output_type": "stream",
     "text": [
      "Variable   Type      Data/Info\n",
      "------------------------------\n",
      "Math       type      <class 'IPython.core.display.Math'>\n",
      "k1         Add       x*(x**5 + y**12) + x**(2*<...>*x**z*y**(-x)/(x*(x + 1))\n",
      "np         module    <module 'numpy' from 'c:\\<...>ges\\\\numpy\\\\__init__.py'>\n",
      "p          Add       2*x - 88\n",
      "p1         Mul       x**y*x**z\n",
      "p2         Mul       x**y*y**(-x)\n",
      "p3         Mul       x*(x + 1)\n",
      "p4         Symbol    x\n",
      "p5         Add       x**5 + y**12\n",
      "sym        module    <module 'sympy' from 'c:\\<...>ges\\\\sympy\\\\__init__.py'>\n",
      "x          Symbol    x\n",
      "y          Symbol    y\n",
      "z          Symbol    z\n"
     ]
    }
   ],
   "source": [
    "%whos"
   ]
  },
  {
   "cell_type": "code",
   "execution_count": 11,
   "metadata": {},
   "outputs": [],
   "source": [
    "p6 = x**2 +7*y /5 *215"
   ]
  },
  {
   "cell_type": "code",
   "execution_count": 13,
   "metadata": {},
   "outputs": [
    {
     "name": "stdout",
     "output_type": "stream",
     "text": [
      "2433\n"
     ]
    }
   ],
   "source": [
    "print(p6.subs({x:5,y:8}))"
   ]
  },
  {
   "cell_type": "code",
   "execution_count": 21,
   "metadata": {},
   "outputs": [],
   "source": [
    "p7 = x**2 +7 /5*y*215"
   ]
  },
  {
   "cell_type": "code",
   "execution_count": 22,
   "metadata": {},
   "outputs": [
    {
     "name": "stdout",
     "output_type": "stream",
     "text": [
      "326.000000000000\n"
     ]
    }
   ],
   "source": [
    "print(p6.subs({x:5,y:8}))"
   ]
  },
  {
   "cell_type": "code",
   "execution_count": 23,
   "metadata": {},
   "outputs": [
    {
     "data": {
      "text/plain": [
       "False"
      ]
     },
     "execution_count": 23,
     "metadata": {},
     "output_type": "execute_result"
    }
   ],
   "source": [
    "p6==p7"
   ]
  },
  {
   "cell_type": "code",
   "execution_count": 24,
   "metadata": {},
   "outputs": [],
   "source": [
    "a=sym.symbols('a')"
   ]
  },
  {
   "cell_type": "code",
   "execution_count": 25,
   "metadata": {},
   "outputs": [],
   "source": [
    "x=a*(67-a)+1/a**2*(16+a)"
   ]
  },
  {
   "cell_type": "code",
   "execution_count": 26,
   "metadata": {},
   "outputs": [
    {
     "data": {
      "text/latex": [
       "$\\displaystyle a \\left(67 - a\\right) + \\frac{a + 16}{a^{2}}$"
      ],
      "text/plain": [
       "a*(67 - a) + (a + 16)/a**2"
      ]
     },
     "metadata": {},
     "output_type": "display_data"
    }
   ],
   "source": [
    "display(x)"
   ]
  },
  {
   "cell_type": "code",
   "execution_count": 28,
   "metadata": {},
   "outputs": [
    {
     "data": {
      "text/latex": [
       "$\\displaystyle a$"
      ],
      "text/plain": [
       "a"
      ]
     },
     "metadata": {},
     "output_type": "display_data"
    }
   ],
   "source": [
    "display(sym.expand(a))"
   ]
  },
  {
   "cell_type": "code",
   "execution_count": 32,
   "metadata": {},
   "outputs": [
    {
     "data": {
      "text/latex": [
       "$\\displaystyle \\left(301 y + \\left(a \\left(67 - a\\right) + \\frac{a + 16}{a^{2}}\\right)^{2}\\right) \\left(301.0 y + \\left(a \\left(67 - a\\right) + \\frac{a + 16}{a^{2}}\\right)^{2}\\right)$"
      ],
      "text/plain": [
       "(301*y + (a*(67 - a) + (a + 16)/a**2)**2)*(301.0*y + (a*(67 - a) + (a + 16)/a**2)**2)"
      ]
     },
     "metadata": {},
     "output_type": "display_data"
    }
   ],
   "source": [
    "p8 = x**2 +7*y /5 *215\n",
    "p9 = x**2 +7 /5*y*215\n",
    "p10=p8*p9\n",
    "\n",
    "display(p10)"
   ]
  },
  {
   "cell_type": "code",
   "execution_count": 31,
   "metadata": {},
   "outputs": [
    {
     "data": {
      "text/latex": [
       "$\\displaystyle a^{8} - 268 a^{7} + 26934 a^{6} - 1203056 a^{5} + 602.0 a^{4} y + 20151861 a^{4} - 80668.0 a^{3} y - 41004 a^{3} + 2702378.0 a^{2} y + 341170 a^{2} - 1204.0 a y + 19248220 a + 90601.0 y^{2} + 61404.0 y + 2742 + \\frac{1290688.0 y}{a} + \\frac{656060}{a} + \\frac{602.0 y}{a^{2}} + \\frac{6895180}{a^{2}} + \\frac{19264.0 y}{a^{3}} + \\frac{9792}{a^{3}} + \\frac{154112.0 y}{a^{4}} + \\frac{189441}{a^{4}} + \\frac{1097792}{a^{5}} + \\frac{1536}{a^{6}} + \\frac{16384}{a^{7}} + \\frac{65536}{a^{8}}$"
      ],
      "text/plain": [
       "a**8 - 268*a**7 + 26934*a**6 - 1203056*a**5 + 602.0*a**4*y + 20151861*a**4 - 80668.0*a**3*y - 41004*a**3 + 2702378.0*a**2*y + 341170*a**2 - 1204.0*a*y + 19248220*a + 90601.0*y**2 + 61404.0*y + 2742 + 1290688.0*y/a + 656060/a + 602.0*y/a**2 + 6895180/a**2 + 19264.0*y/a**3 + 9792/a**3 + 154112.0*y/a**4 + 189441/a**4 + 1097792/a**5 + 1536/a**6 + 16384/a**7 + 65536/a**8"
      ]
     },
     "metadata": {},
     "output_type": "display_data"
    }
   ],
   "source": [
    "display(sym.expand(p8*p9))"
   ]
  },
  {
   "cell_type": "code",
   "execution_count": 33,
   "metadata": {},
   "outputs": [
    {
     "data": {
      "text/latex": [
       "$\\displaystyle 831744.0$"
      ],
      "text/plain": [
       "831744.000000000"
      ]
     },
     "metadata": {},
     "output_type": "display_data"
    }
   ],
   "source": [
    "display(p10.subs({a:2,x:3,y:3}))"
   ]
  },
  {
   "cell_type": "code",
   "execution_count": null,
   "metadata": {},
   "outputs": [],
   "source": []
  }
 ],
 "metadata": {
  "kernelspec": {
   "display_name": "Python 3",
   "language": "python",
   "name": "python3"
  },
  "language_info": {
   "codemirror_mode": {
    "name": "ipython",
    "version": 3
   },
   "file_extension": ".py",
   "mimetype": "text/x-python",
   "name": "python",
   "nbconvert_exporter": "python",
   "pygments_lexer": "ipython3",
   "version": "3.6.1"
  }
 },
 "nbformat": 4,
 "nbformat_minor": 4
}
