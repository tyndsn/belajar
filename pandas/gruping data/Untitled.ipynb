{
 "cells": [
  {
   "cell_type": "code",
   "execution_count": 1,
   "metadata": {},
   "outputs": [],
   "source": [
    "import pandas as pd"
   ]
  },
  {
   "cell_type": "code",
   "execution_count": 30,
   "metadata": {},
   "outputs": [
    {
     "ename": "SyntaxError",
     "evalue": "invalid syntax (<ipython-input-30-c438eb5e7439>, line 5)",
     "output_type": "error",
     "traceback": [
      "\u001b[1;36m  File \u001b[1;32m\"<ipython-input-30-c438eb5e7439>\"\u001b[1;36m, line \u001b[1;32m5\u001b[0m\n\u001b[1;33m    \"kotor\" :int [200, 230, 200, 230, 200, 230, 200, 230, 200, 230, 200, 230]\u001b[0m\n\u001b[1;37m          ^\u001b[0m\n\u001b[1;31mSyntaxError\u001b[0m\u001b[1;31m:\u001b[0m invalid syntax\n"
     ]
    }
   ],
   "source": [
    "penjualan = {\n",
    "    \"hari\" : ['hari-1']*6+['hari-2']*6,\n",
    "    \"toko\" : ['bandung', 'garut', 'jakarta', 'bandung', \"jakarta\", 'bandung', 'garut', 'jakarta', 'garut', 'bandung', 'solo', 'kebumen'],\n",
    "    \"barang\" : ['telur','telur', 'telur','telur', 'telur','telur', 'telur','telur', 'telur','telur', 'telur','telur']\n",
    "    \"kotor\" :int [200, 230, 200, 230, 200, 230, 200, 230, 200, 230, 200, 230]\n",
    "}"
   ]
  },
  {
   "cell_type": "code",
   "execution_count": 22,
   "metadata": {},
   "outputs": [],
   "source": [
    "df = pd.DataFrame(penjualan)"
   ]
  },
  {
   "cell_type": "code",
   "execution_count": 23,
   "metadata": {},
   "outputs": [
    {
     "data": {
      "text/html": [
       "<div>\n",
       "<style scoped>\n",
       "    .dataframe tbody tr th:only-of-type {\n",
       "        vertical-align: middle;\n",
       "    }\n",
       "\n",
       "    .dataframe tbody tr th {\n",
       "        vertical-align: top;\n",
       "    }\n",
       "\n",
       "    .dataframe thead th {\n",
       "        text-align: right;\n",
       "    }\n",
       "</style>\n",
       "<table border=\"1\" class=\"dataframe\">\n",
       "  <thead>\n",
       "    <tr style=\"text-align: right;\">\n",
       "      <th></th>\n",
       "      <th>hari</th>\n",
       "      <th>toko</th>\n",
       "      <th>barang</th>\n",
       "    </tr>\n",
       "  </thead>\n",
       "  <tbody>\n",
       "    <tr>\n",
       "      <th>0</th>\n",
       "      <td>hari-1</td>\n",
       "      <td>bandung</td>\n",
       "      <td>telur</td>\n",
       "    </tr>\n",
       "    <tr>\n",
       "      <th>1</th>\n",
       "      <td>hari-1</td>\n",
       "      <td>garut</td>\n",
       "      <td>telur</td>\n",
       "    </tr>\n",
       "    <tr>\n",
       "      <th>2</th>\n",
       "      <td>hari-1</td>\n",
       "      <td>jakarta</td>\n",
       "      <td>telur</td>\n",
       "    </tr>\n",
       "    <tr>\n",
       "      <th>3</th>\n",
       "      <td>hari-1</td>\n",
       "      <td>bandung</td>\n",
       "      <td>telur</td>\n",
       "    </tr>\n",
       "    <tr>\n",
       "      <th>4</th>\n",
       "      <td>hari-1</td>\n",
       "      <td>jakarta</td>\n",
       "      <td>telur</td>\n",
       "    </tr>\n",
       "    <tr>\n",
       "      <th>5</th>\n",
       "      <td>hari-1</td>\n",
       "      <td>bandung</td>\n",
       "      <td>telur</td>\n",
       "    </tr>\n",
       "    <tr>\n",
       "      <th>6</th>\n",
       "      <td>hari-2</td>\n",
       "      <td>garut</td>\n",
       "      <td>telur</td>\n",
       "    </tr>\n",
       "    <tr>\n",
       "      <th>7</th>\n",
       "      <td>hari-2</td>\n",
       "      <td>jakarta</td>\n",
       "      <td>telur</td>\n",
       "    </tr>\n",
       "    <tr>\n",
       "      <th>8</th>\n",
       "      <td>hari-2</td>\n",
       "      <td>garut</td>\n",
       "      <td>telur</td>\n",
       "    </tr>\n",
       "    <tr>\n",
       "      <th>9</th>\n",
       "      <td>hari-2</td>\n",
       "      <td>bandung</td>\n",
       "      <td>telur</td>\n",
       "    </tr>\n",
       "    <tr>\n",
       "      <th>10</th>\n",
       "      <td>hari-2</td>\n",
       "      <td>solo</td>\n",
       "      <td>telur</td>\n",
       "    </tr>\n",
       "    <tr>\n",
       "      <th>11</th>\n",
       "      <td>hari-2</td>\n",
       "      <td>kebumen</td>\n",
       "      <td>telur</td>\n",
       "    </tr>\n",
       "  </tbody>\n",
       "</table>\n",
       "</div>"
      ],
      "text/plain": [
       "      hari     toko barang\n",
       "0   hari-1  bandung  telur\n",
       "1   hari-1    garut  telur\n",
       "2   hari-1  jakarta  telur\n",
       "3   hari-1  bandung  telur\n",
       "4   hari-1  jakarta  telur\n",
       "5   hari-1  bandung  telur\n",
       "6   hari-2    garut  telur\n",
       "7   hari-2  jakarta  telur\n",
       "8   hari-2    garut  telur\n",
       "9   hari-2  bandung  telur\n",
       "10  hari-2     solo  telur\n",
       "11  hari-2  kebumen  telur"
      ]
     },
     "execution_count": 23,
     "metadata": {},
     "output_type": "execute_result"
    }
   ],
   "source": [
    "df"
   ]
  },
  {
   "cell_type": "code",
   "execution_count": null,
   "metadata": {},
   "outputs": [],
   "source": []
  }
 ],
 "metadata": {
  "kernelspec": {
   "display_name": "Python 3",
   "language": "python",
   "name": "python3"
  },
  "language_info": {
   "codemirror_mode": {
    "name": "ipython",
    "version": 3
   },
   "file_extension": ".py",
   "mimetype": "text/x-python",
   "name": "python",
   "nbconvert_exporter": "python",
   "pygments_lexer": "ipython3",
   "version": "3.6.1"
  }
 },
 "nbformat": 4,
 "nbformat_minor": 4
}
