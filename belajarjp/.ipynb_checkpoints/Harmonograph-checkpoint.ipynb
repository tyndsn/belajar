{
 "cells": [
  {
   "cell_type": "markdown",
   "metadata": {},
   "source": [
    "# Ilustrasi Membuat Harmonograph Dengan Python"
   ]
  },
  {
   "cell_type": "code",
   "execution_count": null,
   "metadata": {},
   "outputs": [],
   "source": [
    "import numpy as np\n",
    "import matplotlib.pyplot as plt"
   ]
  },
  {
   "cell_type": "code",
   "execution_count": null,
   "metadata": {},
   "outputs": [],
   "source": [
    "# Parameter yang digunakan\n",
    "n = 1000000\n",
    "t = np.logspace(np.log10(10),np.log10(500),n)\n",
    "\n",
    "# Silakan merubah parameter ini\n",
    "A = [  3, 6, 1.5, 1.5 ]\n",
    "d = [ .004, .001, .002, .0015 ]\n",
    "f = [   3, 1, 2, 2.5 ]\n",
    "\n",
    "# Membuat pasangan x dan y\n",
    "x = A[0]*np.sin(t*f[0])*np.exp(-d[0]*t) + A[1]*np.sin(t*f[1])*np.exp(-d[1]*t)\n",
    "y = A[2]*np.sin(t*f[2])*np.exp(-d[2]*t) + A[3]*np.sin(t*f[3])*np.exp(-d[3]*t)\n",
    "\n",
    "# Menampilkan plot nya\n",
    "plt.plot(x,y,'k',linewidth=.1)\n",
    "plt.axis('off')\n",
    "plt.show()"
   ]
  },
  {
   "cell_type": "code",
   "execution_count": null,
   "metadata": {},
   "outputs": [],
   "source": [
    "# Melihat komponen satu per satu\n",
    "plt.plot(np.sin(t*f[0])*np.exp(-d[0]*t),linewidth=.5)\n",
    "plt.show()"
   ]
  }
 ],
 "metadata": {
  "kernelspec": {
   "display_name": "Python 3",
   "language": "python",
   "name": "python3"
  },
  "language_info": {
   "codemirror_mode": {
    "name": "ipython",
    "version": 3
   },
   "file_extension": ".py",
   "mimetype": "text/x-python",
   "name": "python",
   "nbconvert_exporter": "python",
   "pygments_lexer": "ipython3",
   "version": "3.6.1"
  }
 },
 "nbformat": 4,
 "nbformat_minor": 2
}
